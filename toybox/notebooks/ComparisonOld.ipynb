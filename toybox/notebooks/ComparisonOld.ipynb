{
 "cells": [
  {
   "cell_type": "code",
   "execution_count": 1,
   "id": "30bf2bfb",
   "metadata": {},
   "outputs": [],
   "source": [
    "import sys\n",
    "sys.path.append(\"../..\")\n",
    "\n",
    "import pyequion2\n",
    "from ekkmodel import chemical_solver, pipe_flow_solver\n",
    "import numpy as np\n",
    "import matplotlib.pyplot as plt\n",
    "\n",
    "import ekkpipedep\n",
    "from ekkpipedep import StationaryPipeFlowSolver\n"
   ]
  },
  {
   "cell_type": "code",
   "execution_count": 2,
   "id": "f7a4b7fb",
   "metadata": {},
   "outputs": [],
   "source": [
    "%load_ext autoreload\n",
    "%autoreload 2\n",
    "%matplotlib inline"
   ]
  },
  {
   "cell_type": "code",
   "execution_count": 3,
   "id": "e1284241",
   "metadata": {},
   "outputs": [
    {
     "data": {
      "text/plain": [
       "0.0010028864192282302"
      ]
     },
     "execution_count": 3,
     "metadata": {},
     "output_type": "execute_result"
    }
   ],
   "source": [
    "1/pyequion2.water_properties.water_density(298.15)"
   ]
  },
  {
   "cell_type": "code",
   "execution_count": 59,
   "id": "b8f6fb4a",
   "metadata": {},
   "outputs": [],
   "source": [
    "def get_molals_from_nahco3(TC, ph, gl_hco3):\n",
    "    TK = TC + 273.15\n",
    "    molal_nahco3 = pyequion2.converters.mgl_to_molal(gl_hco3*1e3, 'HCO3-', TK)\n",
    "    eqsys_nahco3 = pyequion2.EquilibriumSystem([\"NaHCO3\"])\n",
    "    molal_nahco3 = molal_nahco3\n",
    "    solution, stats = eqsys_nahco3.solve_equilibrium_mixed_balance(TK, molal_balance={'Na': molal_nahco3},\n",
    "                                                                   activities_balance_log={'H+':-ph})\n",
    "    return {'Na': solution.elements_molals['Na'],\n",
    "            'C': solution.elements_molals['C']}\n",
    "\n",
    "def get_molals_from_cacl2(TC, gl_ca2p):\n",
    "    TK = TC + 273.15\n",
    "    molal_ca = pyequion2.converters.mgl_to_molal(gl_ca2p*1e3, 'Ca++', TK=TK)\n",
    "    molal_cl = 2*molal_ca\n",
    "    return {'Ca': molal_ca, 'Cl': molal_cl}\n",
    "\n",
    "def get_default_mmol_from_ph(TC, ph):\n",
    "    d1 = get_molals_from_nahco3(TC, ph, 9.003)\n",
    "    d2 = get_molals_from_cacl2(TC, 2.240)\n",
    "    d = d1 | d2\n",
    "    d_molal = {k : v/2 for k, v in d.items()}\n",
    "    water_density = pyequion2.water_properties.water_density(TC + 273.15)\n",
    "    d_molar = {k : v*water_density for k, v in d_molal.items()}\n",
    "    return d_molar"
   ]
  },
  {
   "cell_type": "code",
   "execution_count": 65,
   "id": "66856fdc",
   "metadata": {},
   "outputs": [
    {
     "data": {
      "text/plain": [
       "{'Na': 73.77471530810183,\n",
       " 'C': 70.14299868750933,\n",
       " 'Ca': 27.94550626278756,\n",
       " 'Cl': 55.89101252557512}"
      ]
     },
     "execution_count": 65,
     "metadata": {},
     "output_type": "execute_result"
    }
   ],
   "source": [
    "get_default_mmol_from_ph(25, 8.5)"
   ]
  },
  {
   "cell_type": "code",
   "execution_count": 76,
   "id": "2e35914d",
   "metadata": {},
   "outputs": [],
   "source": [
    "def simple_pipe_solver_call(transport_model=\"A\"):\n",
    "    inverse_water_density = 1/pyequion2.water_properties.water_density(298.15)\n",
    "    c_ca_base = 28.0*inverse_water_density #molal\n",
    "    c_c_base = 65.0*inverse_water_density #molal\n",
    "    c_na_base = 75.0*inverse_water_density #molal\n",
    "    c_cl_base = 56.0*inverse_water_density #molal\n",
    "    T = 298.15 #K\n",
    "    flow_velocity = 0.8458489747656002 #m\n",
    "    pipe_diameter = 11*1e-3 #m\n",
    "    pipe_length = 70.0 #m\n",
    "    solver = chemical_solver.ChemicalSolver(['Ca', 'Na', 'Cl', 'C'],\n",
    "                                            transport_model=transport_model)\n",
    "    comps_vals = {'Ca':c_ca_base,'C':c_c_base,'Na':c_na_base,'Cl':c_cl_base}\n",
    "    solution1 = pipe_flow_solver.solve_pipe_flow(chemical_solver=solver,\n",
    "        temperature=T,\n",
    "        comps_vals=comps_vals,\n",
    "        flow_velocity=flow_velocity,\n",
    "        pipe_diameter=pipe_diameter,\n",
    "        pipe_length=pipe_length,\n",
    "        print_frequency=100,\n",
    "        onlist=[True, True, True, True, True],\n",
    "        return_interpolator=True,\n",
    "        coag_interactions=True,\n",
    "        wall_interactions=True,\n",
    "        nuc_adjustment=1e0,\n",
    "        coag_adjustment=1.0,\n",
    "        initial_nparticles=1e-20,\n",
    "        initial_dparticles=1e-10,\n",
    "        init_phase=\"Vaterite\",\n",
    "        constants={'sigma_app': 0.04, 'double_layer_potential': 0.0}\n",
    "    )\n",
    "    return solution1\n",
    "\n",
    "def model_evaluation(TC = 25, ph = 8.5):\n",
    "    T = TC + 273.15 #K\n",
    "    flow_velocity = 0.8458489747656002 #m\n",
    "    pipe_diameter = 11.2*1e-3 #m\n",
    "    pipe_length = 70.0 #m\n",
    "    solver = StationaryPipeFlowSolver()\n",
    "    solver.set_equilibrium_system(['Ca', 'C', 'Na', 'Cl'],\n",
    "                                  activity_model=\"EXTENDED_DEBYE\",\n",
    "                                  transport_model=\"B\")\n",
    "    solver.set_flow_params(flow_velocity, pipe_diameter, pipe_length)\n",
    "    initial_concentrations = get_default_mmol_from_ph(25, 8.5)\n",
    "    initial_nparticles = 1e-20\n",
    "    initial_dparticles = 1e-10\n",
    "    solver.set_initial_values(initial_concentrations,\n",
    "                              initial_nparticles,\n",
    "                              initial_dparticles)\n",
    "    solver.set_pipe_source(['Vaterite'], ['Vaterite'])\n",
    "    solver.pipe_source.has_ionic_deposition = True\n",
    "    solver.pipe_source.has_nucleation = True\n",
    "    solver.pipe_source.has_agglomeration = True\n",
    "    solver.pipe_source.has_growth = True\n",
    "    solver.pipe_source.has_particle_deposition = True\n",
    "    solver.solve(print_frequency=100)\n",
    "    return solver"
   ]
  },
  {
   "cell_type": "code",
   "execution_count": 77,
   "id": "28955bc3",
   "metadata": {},
   "outputs": [],
   "source": [
    "growth_fn_old = None\n",
    "growth_fn = ekkpipedep.source.growth.single_phase_growth_rate"
   ]
  },
  {
   "cell_type": "code",
   "execution_count": 78,
   "id": "f1811272",
   "metadata": {},
   "outputs": [],
   "source": [
    "# result_old = simple_pipe_solver_call()\n",
    "# print(\"*\"*20)"
   ]
  },
  {
   "cell_type": "code",
   "execution_count": 79,
   "id": "ef69cabe",
   "metadata": {},
   "outputs": [
    {
     "name": "stdout",
     "output_type": "stream",
     "text": [
      "100: 1.3913125294021883e-11 %\n",
      "200: 1.185596729438174e-08 %\n",
      "300: 2.5125024060005443e-06 %\n",
      "400: 0.00010954843908001692 %\n",
      "500: 0.004953188862323108 %\n",
      "600: 0.052052528213312174 %\n",
      "700: 0.30230748125616447 %\n",
      "800: 0.9731009961356513 %\n",
      "900: 2.8797844833417456 %\n",
      "1000: 6.9774711951001915 %\n",
      "1100: 59.222687258919905 %\n"
     ]
    }
   ],
   "source": [
    "result = model_evaluation()"
   ]
  },
  {
   "cell_type": "code",
   "execution_count": 80,
   "id": "a150e527",
   "metadata": {},
   "outputs": [
    {
     "data": {
      "text/plain": [
       "[]"
      ]
     },
     "execution_count": 80,
     "metadata": {},
     "output_type": "execute_result"
    },
    {
     "data": {
      "image/png": "[encoded data removed]",
      "text/plain": [
       "<Figure size 432x288 with 1 Axes>"
      ]
     },
     "metadata": {
      "needs_background": "light"
     },
     "output_type": "display_data"
    }
   ],
   "source": [
    "x = np.linspace(0, 70)\n",
    "nold = result_old.value_at('moments', x)[:, 0]\n",
    "nnew = result.interpolator.value_at('number_particles', x)\n",
    "plt.plot(x, nold, 'b')\n",
    "plt.plot(x, nnew, 'r')\n",
    "plt.semilogy()"
   ]
  },
  {
   "cell_type": "code",
   "execution_count": 81,
   "id": "dedeaddc",
   "metadata": {},
   "outputs": [
    {
     "data": {
      "text/plain": [
       "[<matplotlib.lines.Line2D at 0x7f1d9b6c34c0>]"
      ]
     },
     "execution_count": 81,
     "metadata": {},
     "output_type": "execute_result"
    },
    {
     "data": {
      "image/png": "[encoded data removed]",
      "text/plain": [
       "<Figure size 432x288 with 1 Axes>"
      ]
     },
     "metadata": {
      "needs_background": "light"
     },
     "output_type": "display_data"
    }
   ],
   "source": [
    "x = np.linspace(0, 70)\n",
    "vold = result_old.value_at('moments', x)[:, 1]/result_old.value_at('moments', x)[:, 0]\n",
    "rold = 2*(3/(4*np.pi)*vold)**(1.0/3)\n",
    "vnew = result.interpolator.value_at('mean_volume', x)\n",
    "rnew = result.interpolator.value_at('mean_diameter_estimate', x)\n",
    "rnew = 2*(3/(4*np.pi)*vnew)**(1.0/3)\n",
    "#plt.plot(x, rold, 'b')\n",
    "plt.plot(x, rnew, 'r')"
   ]
  },
  {
   "cell_type": "code",
   "execution_count": 82,
   "id": "bc7ced48",
   "metadata": {},
   "outputs": [
    {
     "data": {
      "text/plain": [
       "[<matplotlib.lines.Line2D at 0x7f1d9b6821c0>]"
      ]
     },
     "execution_count": 82,
     "metadata": {},
     "output_type": "execute_result"
    },
    {
     "data": {
      "image/png": "[encoded data removed]",
      "text/plain": [
       "<Figure size 432x288 with 1 Axes>"
      ]
     },
     "metadata": {
      "needs_background": "light"
     },
     "output_type": "display_data"
    }
   ],
   "source": [
    "x = np.linspace(1, 70)\n",
    "plt.plot(x, result_old.value_at('dmdt', x)*3600*1000)\n",
    "plt.plot(x, result.interpolator.value_at('source_mass', x)*3600*1000, 'r')"
   ]
  },
  {
   "cell_type": "code",
   "execution_count": 73,
   "id": "0b092a65",
   "metadata": {},
   "outputs": [
    {
     "data": {
      "text/plain": [
       "[<matplotlib.lines.Line2D at 0x7f1d9c493e20>]"
      ]
     },
     "execution_count": 73,
     "metadata": {},
     "output_type": "execute_result"
    },
    {
     "data": {
      "image/png": "[encoded data removed]",
      "text/plain": [
       "<Figure size 432x288 with 1 Axes>"
      ]
     },
     "metadata": {
      "needs_background": "light"
     },
     "output_type": "display_data"
    }
   ],
   "source": [
    "x = np.linspace(0, 70)\n",
    "plt.plot(x, result_old.value_at('source_mass_particle_deposition', x)*3600*1000)\n",
    "plt.plot(x, result.interpolator.value_at('source_particle_mass', x)*3600*1000, 'r')"
   ]
  },
  {
   "cell_type": "code",
   "execution_count": 74,
   "id": "6e3939c6",
   "metadata": {},
   "outputs": [
    {
     "data": {
      "text/plain": [
       "[<matplotlib.lines.Line2D at 0x7f1d9dbfdcd0>]"
      ]
     },
     "execution_count": 74,
     "metadata": {},
     "output_type": "execute_result"
    },
    {
     "data": {
      "image/png": "[encoded data removed]",
      "text/plain": [
       "<Figure size 432x288 with 1 Axes>"
      ]
     },
     "metadata": {
      "needs_background": "light"
     },
     "output_type": "display_data"
    }
   ],
   "source": [
    "x = np.linspace(1, 70)\n",
    "plt.plot(x, result_old.value_at('source_mass_ionic_deposition', x)*3600*1000)\n",
    "plt.plot(x, result.interpolator.value_at('source_ionic_mass', x)*3600*1000, 'r')"
   ]
  },
  {
   "cell_type": "code",
   "execution_count": 75,
   "id": "df0a7784",
   "metadata": {},
   "outputs": [
    {
     "data": {
      "text/plain": [
       "[<matplotlib.lines.Line2D at 0x7f1d9de183a0>]"
      ]
     },
     "execution_count": 75,
     "metadata": {},
     "output_type": "execute_result"
    },
    {
     "data": {
      "image/png": "[encoded data removed]",
      "text/plain": [
       "<Figure size 432x288 with 1 Axes>"
      ]
     },
     "metadata": {
      "needs_background": "light"
     },
     "output_type": "display_data"
    }
   ],
   "source": [
    "plt.plot(x, result.interpolator.value_at('particle_deposition_proportion', x), 'r')"
   ]
  },
  {
   "cell_type": "markdown",
   "id": "55e5948b",
   "metadata": {},
   "source": [
    "## result_old.result_keys()"
   ]
  },
  {
   "cell_type": "code",
   "execution_count": null,
   "id": "82c722c7",
   "metadata": {},
   "outputs": [],
   "source": []
  },
  {
   "cell_type": "code",
   "execution_count": null,
   "id": "f1fc49c6",
   "metadata": {},
   "outputs": [],
   "source": []
  }
 ],
 "metadata": {
  "kernelspec": {
   "display_name": "Python 3 (ipykernel)",
   "language": "python",
   "name": "python3"
  },
  "language_info": {
   "codemirror_mode": {
    "name": "ipython",
    "version": 3
   },
   "file_extension": ".py",
   "mimetype": "text/x-python",
   "name": "python",
   "nbconvert_exporter": "python",
   "pygments_lexer": "ipython3",
   "version": "3.9.7"
  }
 },
 "nbformat": 4,
 "nbformat_minor": 5
}
